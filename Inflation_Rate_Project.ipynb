{
 "cells": [
  {
   "cell_type": "markdown",
   "id": "fb4bf21f",
   "metadata": {},
   "source": [
    "# The aim of this project is to webscrape data from the internet using beautiful soup and perform analysis to gain insight using python visualisation tools\n",
    "## The data gives insight on the comparison between inflation rate of Nigeria and other countries in europe \n",
    "## The data was scraped from this link:[link](https://www.worlddata.info/africa/nigeria/inflation-rates.php)"
   ]
  },
  {
   "cell_type": "code",
   "execution_count": 4,
   "id": "b82f9bc2",
   "metadata": {},
   "outputs": [],
   "source": [
    "#importing all the necessary libraries\n",
    "import pandas as pd\n",
    "import numpy as np\n",
    "import matplotlib.pyplot as plt\n",
    "import seaborn as sns\n",
    "from bs4 import BeautifulSoup\n",
    "import requests"
   ]
  },
  {
   "cell_type": "code",
   "execution_count": 5,
   "id": "7a4ae200",
   "metadata": {},
   "outputs": [],
   "source": [
    "#using beautiful soup API to get the content of the table data in the website\n",
    "url='https://www.worlddata.info/africa/nigeria/inflation-rates.php'\n",
    "data=requests.get(url)\n",
    "soup=BeautifulSoup(data.content)"
   ]
  },
  {
   "cell_type": "code",
   "execution_count": 6,
   "id": "6109abd5",
   "metadata": {},
   "outputs": [
    {
     "data": {
      "text/html": [
       "<div>\n",
       "<style scoped>\n",
       "    .dataframe tbody tr th:only-of-type {\n",
       "        vertical-align: middle;\n",
       "    }\n",
       "\n",
       "    .dataframe tbody tr th {\n",
       "        vertical-align: top;\n",
       "    }\n",
       "\n",
       "    .dataframe thead th {\n",
       "        text-align: right;\n",
       "    }\n",
       "</style>\n",
       "<table border=\"1\" class=\"dataframe\">\n",
       "  <thead>\n",
       "    <tr style=\"text-align: right;\">\n",
       "      <th></th>\n",
       "      <th>Year</th>\n",
       "      <th>Nigeria</th>\n",
       "      <th>Ø EU</th>\n",
       "      <th>Ø USA</th>\n",
       "      <th>Ø World</th>\n",
       "    </tr>\n",
       "  </thead>\n",
       "  <tbody>\n",
       "    <tr>\n",
       "      <th>0</th>\n",
       "      <td>2021</td>\n",
       "      <td>16.95 %</td>\n",
       "      <td>2.55 %</td>\n",
       "      <td>4.70 %</td>\n",
       "      <td>3.50 %</td>\n",
       "    </tr>\n",
       "    <tr>\n",
       "      <th>1</th>\n",
       "      <td>2020</td>\n",
       "      <td>13.25 %</td>\n",
       "      <td>0.50 %</td>\n",
       "      <td>1.23 %</td>\n",
       "      <td>1.92 %</td>\n",
       "    </tr>\n",
       "    <tr>\n",
       "      <th>2</th>\n",
       "      <td>2019</td>\n",
       "      <td>11.40 %</td>\n",
       "      <td>1.63 %</td>\n",
       "      <td>1.81 %</td>\n",
       "      <td>2.19 %</td>\n",
       "    </tr>\n",
       "    <tr>\n",
       "      <th>3</th>\n",
       "      <td>2018</td>\n",
       "      <td>12.09 %</td>\n",
       "      <td>1.74 %</td>\n",
       "      <td>2.44 %</td>\n",
       "      <td>2.44 %</td>\n",
       "    </tr>\n",
       "    <tr>\n",
       "      <th>4</th>\n",
       "      <td>2017</td>\n",
       "      <td>16.52 %</td>\n",
       "      <td>1.43 %</td>\n",
       "      <td>2.13 %</td>\n",
       "      <td>2.19 %</td>\n",
       "    </tr>\n",
       "    <tr>\n",
       "      <th>...</th>\n",
       "      <td>...</td>\n",
       "      <td>...</td>\n",
       "      <td>...</td>\n",
       "      <td>...</td>\n",
       "      <td>...</td>\n",
       "    </tr>\n",
       "    <tr>\n",
       "      <th>57</th>\n",
       "      <td>1964</td>\n",
       "      <td>0.86 %</td>\n",
       "      <td>3.42 %</td>\n",
       "      <td>1.28 %</td>\n",
       "      <td>n/a</td>\n",
       "    </tr>\n",
       "    <tr>\n",
       "      <th>58</th>\n",
       "      <td>1963</td>\n",
       "      <td>-2.69 %</td>\n",
       "      <td>2.92 %</td>\n",
       "      <td>1.24 %</td>\n",
       "      <td>n/a</td>\n",
       "    </tr>\n",
       "    <tr>\n",
       "      <th>59</th>\n",
       "      <td>1962</td>\n",
       "      <td>5.27 %</td>\n",
       "      <td>3.55 %</td>\n",
       "      <td>1.20 %</td>\n",
       "      <td>n/a</td>\n",
       "    </tr>\n",
       "    <tr>\n",
       "      <th>60</th>\n",
       "      <td>1961</td>\n",
       "      <td>6.28 %</td>\n",
       "      <td>2.08 %</td>\n",
       "      <td>1.07 %</td>\n",
       "      <td>n/a</td>\n",
       "    </tr>\n",
       "    <tr>\n",
       "      <th>61</th>\n",
       "      <td>1960</td>\n",
       "      <td>5.44 %</td>\n",
       "      <td>1.74 %</td>\n",
       "      <td>1.46 %</td>\n",
       "      <td>n/a</td>\n",
       "    </tr>\n",
       "  </tbody>\n",
       "</table>\n",
       "<p>62 rows × 5 columns</p>\n",
       "</div>"
      ],
      "text/plain": [
       "    Year  Nigeria    Ø EU   Ø USA Ø World\n",
       "0   2021  16.95 %  2.55 %  4.70 %  3.50 %\n",
       "1   2020  13.25 %  0.50 %  1.23 %  1.92 %\n",
       "2   2019  11.40 %  1.63 %  1.81 %  2.19 %\n",
       "3   2018  12.09 %  1.74 %  2.44 %  2.44 %\n",
       "4   2017  16.52 %  1.43 %  2.13 %  2.19 %\n",
       "..   ...      ...     ...     ...     ...\n",
       "57  1964   0.86 %  3.42 %  1.28 %     n/a\n",
       "58  1963  -2.69 %  2.92 %  1.24 %     n/a\n",
       "59  1962   5.27 %  3.55 %  1.20 %     n/a\n",
       "60  1961   6.28 %  2.08 %  1.07 %     n/a\n",
       "61  1960   5.44 %  1.74 %  1.46 %     n/a\n",
       "\n",
       "[62 rows x 5 columns]"
      ]
     },
     "execution_count": 6,
     "metadata": {},
     "output_type": "execute_result"
    }
   ],
   "source": [
    "header_list=[]\n",
    "for header in soup.find_all('th'):#get the header of the table \n",
    "    header_list.append(header.text)\n",
    "df=pd.DataFrame(columns=header_list)#make the header of the table the column name in our dataframe\n",
    "list_of_rows=[]\n",
    "#get each row in the table and assign it as a dataframe\n",
    "table_row=soup.find_all('tr')\n",
    "for i in range(1,len(table_row)):\n",
    "    list_of_rows_with_tags=[]\n",
    "    tb=table_row[i]     \n",
    "    for row in tb:\n",
    "        list_of_rows_with_tags.append(row.text) \n",
    "    list_of_rows.append(list_of_rows_with_tags)\n",
    "for df_rows in list_of_rows:\n",
    "    df.loc[df.shape[0]]=df_rows\n",
    "df"
   ]
  },
  {
   "cell_type": "code",
   "execution_count": 7,
   "id": "6a56c907",
   "metadata": {},
   "outputs": [
    {
     "data": {
      "text/plain": [
       "Index(['Year', 'Nigeria', 'Ø EU', 'Ø USA', 'Ø World'], dtype='object')"
      ]
     },
     "execution_count": 7,
     "metadata": {},
     "output_type": "execute_result"
    }
   ],
   "source": [
    "columnnames=df.columns\n",
    "columnnames"
   ]
  },
  {
   "cell_type": "markdown",
   "id": "723381ab",
   "metadata": {},
   "source": [
    "# Cleaning Stage"
   ]
  },
  {
   "cell_type": "code",
   "execution_count": 8,
   "id": "d2de2026",
   "metadata": {},
   "outputs": [
    {
     "data": {
      "text/html": [
       "<div>\n",
       "<style scoped>\n",
       "    .dataframe tbody tr th:only-of-type {\n",
       "        vertical-align: middle;\n",
       "    }\n",
       "\n",
       "    .dataframe tbody tr th {\n",
       "        vertical-align: top;\n",
       "    }\n",
       "\n",
       "    .dataframe thead th {\n",
       "        text-align: right;\n",
       "    }\n",
       "</style>\n",
       "<table border=\"1\" class=\"dataframe\">\n",
       "  <thead>\n",
       "    <tr style=\"text-align: right;\">\n",
       "      <th></th>\n",
       "      <th>Year</th>\n",
       "      <th>Nigeria</th>\n",
       "      <th>Ø_EU</th>\n",
       "      <th>Ø_USA</th>\n",
       "      <th>Ø_World</th>\n",
       "    </tr>\n",
       "  </thead>\n",
       "  <tbody>\n",
       "    <tr>\n",
       "      <th>0</th>\n",
       "      <td>2021</td>\n",
       "      <td>16.95 %</td>\n",
       "      <td>2.55 %</td>\n",
       "      <td>4.70 %</td>\n",
       "      <td>3.50 %</td>\n",
       "    </tr>\n",
       "    <tr>\n",
       "      <th>1</th>\n",
       "      <td>2020</td>\n",
       "      <td>13.25 %</td>\n",
       "      <td>0.50 %</td>\n",
       "      <td>1.23 %</td>\n",
       "      <td>1.92 %</td>\n",
       "    </tr>\n",
       "    <tr>\n",
       "      <th>2</th>\n",
       "      <td>2019</td>\n",
       "      <td>11.40 %</td>\n",
       "      <td>1.63 %</td>\n",
       "      <td>1.81 %</td>\n",
       "      <td>2.19 %</td>\n",
       "    </tr>\n",
       "    <tr>\n",
       "      <th>3</th>\n",
       "      <td>2018</td>\n",
       "      <td>12.09 %</td>\n",
       "      <td>1.74 %</td>\n",
       "      <td>2.44 %</td>\n",
       "      <td>2.44 %</td>\n",
       "    </tr>\n",
       "    <tr>\n",
       "      <th>4</th>\n",
       "      <td>2017</td>\n",
       "      <td>16.52 %</td>\n",
       "      <td>1.43 %</td>\n",
       "      <td>2.13 %</td>\n",
       "      <td>2.19 %</td>\n",
       "    </tr>\n",
       "    <tr>\n",
       "      <th>...</th>\n",
       "      <td>...</td>\n",
       "      <td>...</td>\n",
       "      <td>...</td>\n",
       "      <td>...</td>\n",
       "      <td>...</td>\n",
       "    </tr>\n",
       "    <tr>\n",
       "      <th>57</th>\n",
       "      <td>1964</td>\n",
       "      <td>0.86 %</td>\n",
       "      <td>3.42 %</td>\n",
       "      <td>1.28 %</td>\n",
       "      <td>n/a</td>\n",
       "    </tr>\n",
       "    <tr>\n",
       "      <th>58</th>\n",
       "      <td>1963</td>\n",
       "      <td>-2.69 %</td>\n",
       "      <td>2.92 %</td>\n",
       "      <td>1.24 %</td>\n",
       "      <td>n/a</td>\n",
       "    </tr>\n",
       "    <tr>\n",
       "      <th>59</th>\n",
       "      <td>1962</td>\n",
       "      <td>5.27 %</td>\n",
       "      <td>3.55 %</td>\n",
       "      <td>1.20 %</td>\n",
       "      <td>n/a</td>\n",
       "    </tr>\n",
       "    <tr>\n",
       "      <th>60</th>\n",
       "      <td>1961</td>\n",
       "      <td>6.28 %</td>\n",
       "      <td>2.08 %</td>\n",
       "      <td>1.07 %</td>\n",
       "      <td>n/a</td>\n",
       "    </tr>\n",
       "    <tr>\n",
       "      <th>61</th>\n",
       "      <td>1960</td>\n",
       "      <td>5.44 %</td>\n",
       "      <td>1.74 %</td>\n",
       "      <td>1.46 %</td>\n",
       "      <td>n/a</td>\n",
       "    </tr>\n",
       "  </tbody>\n",
       "</table>\n",
       "<p>62 rows × 5 columns</p>\n",
       "</div>"
      ],
      "text/plain": [
       "    Year  Nigeria    Ø_EU   Ø_USA Ø_World\n",
       "0   2021  16.95 %  2.55 %  4.70 %  3.50 %\n",
       "1   2020  13.25 %  0.50 %  1.23 %  1.92 %\n",
       "2   2019  11.40 %  1.63 %  1.81 %  2.19 %\n",
       "3   2018  12.09 %  1.74 %  2.44 %  2.44 %\n",
       "4   2017  16.52 %  1.43 %  2.13 %  2.19 %\n",
       "..   ...      ...     ...     ...     ...\n",
       "57  1964   0.86 %  3.42 %  1.28 %     n/a\n",
       "58  1963  -2.69 %  2.92 %  1.24 %     n/a\n",
       "59  1962   5.27 %  3.55 %  1.20 %     n/a\n",
       "60  1961   6.28 %  2.08 %  1.07 %     n/a\n",
       "61  1960   5.44 %  1.74 %  1.46 %     n/a\n",
       "\n",
       "[62 rows x 5 columns]"
      ]
     },
     "execution_count": 8,
     "metadata": {},
     "output_type": "execute_result"
    }
   ],
   "source": [
    "#column names are not well labelled,the empty space after Ø should be replaced with _\n",
    "new_column=[]\n",
    "for i in columnnames:\n",
    "    if ' ' in i:\n",
    "        new_col=i.replace(' ','_')\n",
    "        new_column.append(new_col)\n",
    "    else:\n",
    "        new_column.append(i)\n",
    "\n",
    "df.columns=new_column\n",
    "df"
   ]
  },
  {
   "cell_type": "code",
   "execution_count": 9,
   "id": "af4b6817",
   "metadata": {},
   "outputs": [
    {
     "data": {
      "text/plain": [
       "Year       0\n",
       "Nigeria    0\n",
       "Ø_EU       0\n",
       "Ø_USA      0\n",
       "Ø_World    0\n",
       "dtype: int64"
      ]
     },
     "execution_count": 9,
     "metadata": {},
     "output_type": "execute_result"
    }
   ],
   "source": [
    "#The dataframe has no null value\n",
    "df.isna().sum()"
   ]
  },
  {
   "cell_type": "code",
   "execution_count": 10,
   "id": "303bc61a",
   "metadata": {},
   "outputs": [
    {
     "data": {
      "text/html": [
       "<div>\n",
       "<style scoped>\n",
       "    .dataframe tbody tr th:only-of-type {\n",
       "        vertical-align: middle;\n",
       "    }\n",
       "\n",
       "    .dataframe tbody tr th {\n",
       "        vertical-align: top;\n",
       "    }\n",
       "\n",
       "    .dataframe thead th {\n",
       "        text-align: right;\n",
       "    }\n",
       "</style>\n",
       "<table border=\"1\" class=\"dataframe\">\n",
       "  <thead>\n",
       "    <tr style=\"text-align: right;\">\n",
       "      <th></th>\n",
       "      <th>Year</th>\n",
       "      <th>Nigeria</th>\n",
       "      <th>Ø_EU</th>\n",
       "      <th>Ø_USA</th>\n",
       "      <th>Ø_World</th>\n",
       "    </tr>\n",
       "  </thead>\n",
       "  <tbody>\n",
       "  </tbody>\n",
       "</table>\n",
       "</div>"
      ],
      "text/plain": [
       "Empty DataFrame\n",
       "Columns: [Year, Nigeria, Ø_EU, Ø_USA, Ø_World]\n",
       "Index: []"
      ]
     },
     "execution_count": 10,
     "metadata": {},
     "output_type": "execute_result"
    }
   ],
   "source": [
    "#There are no duplicated values\n",
    "df[df.duplicated()]"
   ]
  },
  {
   "cell_type": "code",
   "execution_count": 11,
   "id": "dc613bac",
   "metadata": {},
   "outputs": [],
   "source": [
    "#This function will clean the Nigeria and USA columns and convert to float\n",
    "def funcs(x):\n",
    "    return float(x.strip('%'))"
   ]
  },
  {
   "cell_type": "code",
   "execution_count": 12,
   "id": "95901a3b",
   "metadata": {},
   "outputs": [],
   "source": [
    "#This function will clean the EU column and replace n/a with 0\n",
    "def function(x):\n",
    "    return float(x.strip('%').replace('n/a','0'))"
   ]
  },
  {
   "cell_type": "code",
   "execution_count": 13,
   "id": "442d2758",
   "metadata": {},
   "outputs": [],
   "source": [
    "df.Year=df.Year.astype(int)"
   ]
  },
  {
   "cell_type": "code",
   "execution_count": 14,
   "id": "80fcda7c",
   "metadata": {},
   "outputs": [],
   "source": [
    "df['Nigeria'] = df['Nigeria'].apply(funcs)"
   ]
  },
  {
   "cell_type": "code",
   "execution_count": 15,
   "id": "4db83970",
   "metadata": {},
   "outputs": [],
   "source": [
    "df['Ø_USA']=df['Ø_USA'].apply(funcs)"
   ]
  },
  {
   "cell_type": "code",
   "execution_count": 16,
   "id": "244adfde",
   "metadata": {},
   "outputs": [],
   "source": [
    "df['Ø_EU'] =df['Ø_EU'].apply(funcs)"
   ]
  },
  {
   "cell_type": "code",
   "execution_count": 17,
   "id": "5a9c8df8",
   "metadata": {},
   "outputs": [],
   "source": [
    "df['Ø_World']= df['Ø_World'].apply(function)"
   ]
  },
  {
   "cell_type": "markdown",
   "id": "22e4731d",
   "metadata": {},
   "source": [
    "# Performing exploratory analysis on the dataset"
   ]
  },
  {
   "cell_type": "code",
   "execution_count": 18,
   "id": "0c9394e7",
   "metadata": {},
   "outputs": [
    {
     "data": {
      "text/html": [
       "<div>\n",
       "<style scoped>\n",
       "    .dataframe tbody tr th:only-of-type {\n",
       "        vertical-align: middle;\n",
       "    }\n",
       "\n",
       "    .dataframe tbody tr th {\n",
       "        vertical-align: top;\n",
       "    }\n",
       "\n",
       "    .dataframe thead th {\n",
       "        text-align: right;\n",
       "    }\n",
       "</style>\n",
       "<table border=\"1\" class=\"dataframe\">\n",
       "  <thead>\n",
       "    <tr style=\"text-align: right;\">\n",
       "      <th></th>\n",
       "      <th>Year</th>\n",
       "      <th>Nigeria</th>\n",
       "      <th>Ø_EU</th>\n",
       "      <th>Ø_USA</th>\n",
       "      <th>Ø_World</th>\n",
       "    </tr>\n",
       "  </thead>\n",
       "  <tbody>\n",
       "    <tr>\n",
       "      <th>count</th>\n",
       "      <td>62.000000</td>\n",
       "      <td>62.000000</td>\n",
       "      <td>62.000000</td>\n",
       "      <td>62.000000</td>\n",
       "      <td>62.000000</td>\n",
       "    </tr>\n",
       "    <tr>\n",
       "      <th>mean</th>\n",
       "      <td>1990.500000</td>\n",
       "      <td>15.804194</td>\n",
       "      <td>4.408548</td>\n",
       "      <td>3.696290</td>\n",
       "      <td>3.742903</td>\n",
       "    </tr>\n",
       "    <tr>\n",
       "      <th>std</th>\n",
       "      <td>18.041619</td>\n",
       "      <td>15.148224</td>\n",
       "      <td>3.125897</td>\n",
       "      <td>2.752853</td>\n",
       "      <td>3.635899</td>\n",
       "    </tr>\n",
       "    <tr>\n",
       "      <th>min</th>\n",
       "      <td>1960.000000</td>\n",
       "      <td>-3.730000</td>\n",
       "      <td>-0.060000</td>\n",
       "      <td>-0.360000</td>\n",
       "      <td>0.000000</td>\n",
       "    </tr>\n",
       "    <tr>\n",
       "      <th>25%</th>\n",
       "      <td>1975.250000</td>\n",
       "      <td>7.505000</td>\n",
       "      <td>2.420000</td>\n",
       "      <td>1.832500</td>\n",
       "      <td>0.000000</td>\n",
       "    </tr>\n",
       "    <tr>\n",
       "      <th>50%</th>\n",
       "      <td>1990.500000</td>\n",
       "      <td>11.900000</td>\n",
       "      <td>3.485000</td>\n",
       "      <td>2.985000</td>\n",
       "      <td>3.055000</td>\n",
       "    </tr>\n",
       "    <tr>\n",
       "      <th>75%</th>\n",
       "      <td>2005.750000</td>\n",
       "      <td>16.842500</td>\n",
       "      <td>5.877500</td>\n",
       "      <td>4.297500</td>\n",
       "      <td>6.367500</td>\n",
       "    </tr>\n",
       "    <tr>\n",
       "      <th>max</th>\n",
       "      <td>2021.000000</td>\n",
       "      <td>72.840000</td>\n",
       "      <td>13.160000</td>\n",
       "      <td>13.550000</td>\n",
       "      <td>13.980000</td>\n",
       "    </tr>\n",
       "  </tbody>\n",
       "</table>\n",
       "</div>"
      ],
      "text/plain": [
       "              Year    Nigeria       Ø_EU      Ø_USA    Ø_World\n",
       "count    62.000000  62.000000  62.000000  62.000000  62.000000\n",
       "mean   1990.500000  15.804194   4.408548   3.696290   3.742903\n",
       "std      18.041619  15.148224   3.125897   2.752853   3.635899\n",
       "min    1960.000000  -3.730000  -0.060000  -0.360000   0.000000\n",
       "25%    1975.250000   7.505000   2.420000   1.832500   0.000000\n",
       "50%    1990.500000  11.900000   3.485000   2.985000   3.055000\n",
       "75%    2005.750000  16.842500   5.877500   4.297500   6.367500\n",
       "max    2021.000000  72.840000  13.160000  13.550000  13.980000"
      ]
     },
     "execution_count": 18,
     "metadata": {},
     "output_type": "execute_result"
    }
   ],
   "source": [
    "df.describe()"
   ]
  },
  {
   "cell_type": "code",
   "execution_count": 19,
   "id": "b4ed375d",
   "metadata": {},
   "outputs": [
    {
     "data": {
      "text/html": [
       "<div>\n",
       "<style scoped>\n",
       "    .dataframe tbody tr th:only-of-type {\n",
       "        vertical-align: middle;\n",
       "    }\n",
       "\n",
       "    .dataframe tbody tr th {\n",
       "        vertical-align: top;\n",
       "    }\n",
       "\n",
       "    .dataframe thead th {\n",
       "        text-align: right;\n",
       "    }\n",
       "</style>\n",
       "<table border=\"1\" class=\"dataframe\">\n",
       "  <thead>\n",
       "    <tr style=\"text-align: right;\">\n",
       "      <th></th>\n",
       "      <th>Year</th>\n",
       "      <th>Nigeria</th>\n",
       "      <th>Ø_EU</th>\n",
       "      <th>Ø_USA</th>\n",
       "      <th>Ø_World</th>\n",
       "    </tr>\n",
       "  </thead>\n",
       "  <tbody>\n",
       "    <tr>\n",
       "      <th>Year</th>\n",
       "      <td>1.000000</td>\n",
       "      <td>0.132331</td>\n",
       "      <td>-0.490122</td>\n",
       "      <td>-0.335974</td>\n",
       "      <td>0.262782</td>\n",
       "    </tr>\n",
       "    <tr>\n",
       "      <th>Nigeria</th>\n",
       "      <td>0.132331</td>\n",
       "      <td>1.000000</td>\n",
       "      <td>0.199148</td>\n",
       "      <td>0.101096</td>\n",
       "      <td>0.436249</td>\n",
       "    </tr>\n",
       "    <tr>\n",
       "      <th>Ø_EU</th>\n",
       "      <td>-0.490122</td>\n",
       "      <td>0.199148</td>\n",
       "      <td>1.000000</td>\n",
       "      <td>0.862528</td>\n",
       "      <td>0.295744</td>\n",
       "    </tr>\n",
       "    <tr>\n",
       "      <th>Ø_USA</th>\n",
       "      <td>-0.335974</td>\n",
       "      <td>0.101096</td>\n",
       "      <td>0.862528</td>\n",
       "      <td>1.000000</td>\n",
       "      <td>0.200346</td>\n",
       "    </tr>\n",
       "    <tr>\n",
       "      <th>Ø_World</th>\n",
       "      <td>0.262782</td>\n",
       "      <td>0.436249</td>\n",
       "      <td>0.295744</td>\n",
       "      <td>0.200346</td>\n",
       "      <td>1.000000</td>\n",
       "    </tr>\n",
       "  </tbody>\n",
       "</table>\n",
       "</div>"
      ],
      "text/plain": [
       "             Year   Nigeria      Ø_EU     Ø_USA   Ø_World\n",
       "Year     1.000000  0.132331 -0.490122 -0.335974  0.262782\n",
       "Nigeria  0.132331  1.000000  0.199148  0.101096  0.436249\n",
       "Ø_EU    -0.490122  0.199148  1.000000  0.862528  0.295744\n",
       "Ø_USA   -0.335974  0.101096  0.862528  1.000000  0.200346\n",
       "Ø_World  0.262782  0.436249  0.295744  0.200346  1.000000"
      ]
     },
     "execution_count": 19,
     "metadata": {},
     "output_type": "execute_result"
    }
   ],
   "source": [
    "df.corr()"
   ]
  },
  {
   "cell_type": "code",
   "execution_count": 20,
   "id": "23396b91",
   "metadata": {},
   "outputs": [
    {
     "data": {
      "text/plain": [
       "Text(0.5, 1.0, 'GRAPH OF INFLATION RATE OF NIGERIA,USA,EUROPE AND WORLD BETWEEN 1960-2021 ')"
      ]
     },
     "execution_count": 20,
     "metadata": {},
     "output_type": "execute_result"
    },
    {
     "data": {
      "image/png": "[encoded data removed]",
      "text/plain": [
       "<Figure size 720x432 with 1 Axes>"
      ]
     },
     "metadata": {
      "needs_background": "light"
     },
     "output_type": "display_data"
    }
   ],
   "source": [
    "plt.figure(figsize=[10,6])\n",
    "sns.scatterplot(y=df['Nigeria'],x=df['Year'],data=df)\n",
    "sns.scatterplot(y=df['Ø_EU'],x=df['Year'],data=df)\n",
    "sns.scatterplot(y=df['Ø_USA'],x=df['Year'],data=df)\n",
    "sns.scatterplot(y=df['Ø_World'],x=df['Year'],data=df)\n",
    "plt.grid('darkgrid')\n",
    "plt.legend(labels=['Nigeria','EU','USA','World'])\n",
    "plt.title(\"Graph of inflation rate of nigeria,usa,europe and World between 1960-2021 \".upper())"
   ]
  },
  {
   "cell_type": "markdown",
   "id": "1d125db0",
   "metadata": {},
   "source": [
    "# CONCLUSION\n",
    "* World inflation rate was stable from year 1960 to 1980,but the inflation rate rose in year 1980 above 10% but later dropped and never got to that level again.\n",
    "* European union had a spike in inflation rate around year 1974 and 1980 but it dropped steadily.\n",
    "* USA had  a little stable inflation rate between 1960 to 1970,but experienced a rise and fall between 1970 to 1990, then  between year 1990 to 2020,it was a bit stable\n",
    "* Nigeria has the highest inflation rate amongst the four.The inflation rate rose around 1975 and dropped,its rose again around   1988 to 1993.Then the country experienced a very sharp spike in year 1995 which was above 70%."
   ]
  }
 ],
 "metadata": {
  "kernelspec": {
   "display_name": "Python 3 (ipykernel)",
   "language": "python",
   "name": "python3"
  },
  "language_info": {
   "codemirror_mode": {
    "name": "ipython",
    "version": 3
   },
   "file_extension": ".py",
   "mimetype": "text/x-python",
   "name": "python",
   "nbconvert_exporter": "python",
   "pygments_lexer": "ipython3",
   "version": "3.9.12"
  }
 },
 "nbformat": 4,
 "nbformat_minor": 5
}
