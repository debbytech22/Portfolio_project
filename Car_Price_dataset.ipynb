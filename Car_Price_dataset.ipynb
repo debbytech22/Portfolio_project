{
 "cells": [
  {
   "cell_type": "markdown",
   "id": "6229e4dc",
   "metadata": {},
   "source": [
    "# The aim of the project is to aggregate the Nigeria car dataset to answer the following questions\n",
    "* What is the most expensive Automatic car (show car name and model make) with a mileage of less than 50000.\n",
    "* Which car make has the highest average price? \n",
    "* Select the row with a price at the 76th percentile score.\n",
    " \n",
    "## The dataset was gotten from this link below:[link](https://www.kaggle.com/datasets/segunadedipe/nigerian-car-prices)\n",
    "\n",
    "\n"
   ]
  },
  {
   "cell_type": "code",
   "execution_count": 1,
   "id": "059f5259",
   "metadata": {},
   "outputs": [],
   "source": [
    "#importing the necessary libraries\n",
    "import pandas as pd\n",
    "import seaborn as sns\n",
    "import matplotlib \n",
    "from matplotlib import pyplot as plt\n",
    "import numpy as np"
   ]
  },
  {
   "cell_type": "code",
   "execution_count": 2,
   "id": "938f5f45",
   "metadata": {},
   "outputs": [],
   "source": [
    "car_df=pd.read_csv('Nigerian_Car_Prices.csv')#read in the dataset as a pandas dataframe"
   ]
  },
  {
   "cell_type": "code",
   "execution_count": 3,
   "id": "4a7e0f92",
   "metadata": {},
   "outputs": [
    {
     "data": {
      "text/html": [
       "<div>\n",
       "<style scoped>\n",
       "    .dataframe tbody tr th:only-of-type {\n",
       "        vertical-align: middle;\n",
       "    }\n",
       "\n",
       "    .dataframe tbody tr th {\n",
       "        vertical-align: top;\n",
       "    }\n",
       "\n",
       "    .dataframe thead th {\n",
       "        text-align: right;\n",
       "    }\n",
       "</style>\n",
       "<table border=\"1\" class=\"dataframe\">\n",
       "  <thead>\n",
       "    <tr style=\"text-align: right;\">\n",
       "      <th></th>\n",
       "      <th>Unnamed: 0</th>\n",
       "      <th>Make</th>\n",
       "      <th>Year of manufacture</th>\n",
       "      <th>Condition</th>\n",
       "      <th>Mileage</th>\n",
       "      <th>Engine Size</th>\n",
       "      <th>Fuel</th>\n",
       "      <th>Transmission</th>\n",
       "      <th>Price</th>\n",
       "      <th>Build</th>\n",
       "    </tr>\n",
       "  </thead>\n",
       "  <tbody>\n",
       "    <tr>\n",
       "      <th>0</th>\n",
       "      <td>0</td>\n",
       "      <td>Toyota</td>\n",
       "      <td>2007.0</td>\n",
       "      <td>Nigerian Used</td>\n",
       "      <td>166418.0</td>\n",
       "      <td>2400.0</td>\n",
       "      <td>Petrol</td>\n",
       "      <td>Automatic</td>\n",
       "      <td>3,120,000</td>\n",
       "      <td>NaN</td>\n",
       "    </tr>\n",
       "    <tr>\n",
       "      <th>1</th>\n",
       "      <td>1</td>\n",
       "      <td>Lexus</td>\n",
       "      <td>NaN</td>\n",
       "      <td>NaN</td>\n",
       "      <td>138024.0</td>\n",
       "      <td>NaN</td>\n",
       "      <td>NaN</td>\n",
       "      <td>Automatic</td>\n",
       "      <td>5,834,000</td>\n",
       "      <td>NaN</td>\n",
       "    </tr>\n",
       "    <tr>\n",
       "      <th>2</th>\n",
       "      <td>2</td>\n",
       "      <td>Mercedes-Benz</td>\n",
       "      <td>2008.0</td>\n",
       "      <td>Nigerian Used</td>\n",
       "      <td>376807.0</td>\n",
       "      <td>3000.0</td>\n",
       "      <td>Petrol</td>\n",
       "      <td>Automatic</td>\n",
       "      <td>3,640,000</td>\n",
       "      <td>NaN</td>\n",
       "    </tr>\n",
       "    <tr>\n",
       "      <th>3</th>\n",
       "      <td>3</td>\n",
       "      <td>Lexus</td>\n",
       "      <td>NaN</td>\n",
       "      <td>NaN</td>\n",
       "      <td>213362.0</td>\n",
       "      <td>NaN</td>\n",
       "      <td>NaN</td>\n",
       "      <td>Automatic</td>\n",
       "      <td>3,594,000</td>\n",
       "      <td>NaN</td>\n",
       "    </tr>\n",
       "    <tr>\n",
       "      <th>4</th>\n",
       "      <td>4</td>\n",
       "      <td>Mercedes-Benz</td>\n",
       "      <td>NaN</td>\n",
       "      <td>NaN</td>\n",
       "      <td>106199.0</td>\n",
       "      <td>NaN</td>\n",
       "      <td>NaN</td>\n",
       "      <td>Automatic</td>\n",
       "      <td>8,410,000</td>\n",
       "      <td>NaN</td>\n",
       "    </tr>\n",
       "  </tbody>\n",
       "</table>\n",
       "</div>"
      ],
      "text/plain": [
       "   Unnamed: 0           Make  Year of manufacture      Condition   Mileage  \\\n",
       "0           0         Toyota               2007.0  Nigerian Used  166418.0   \n",
       "1           1          Lexus                  NaN            NaN  138024.0   \n",
       "2           2  Mercedes-Benz               2008.0  Nigerian Used  376807.0   \n",
       "3           3          Lexus                  NaN            NaN  213362.0   \n",
       "4           4  Mercedes-Benz                  NaN            NaN  106199.0   \n",
       "\n",
       "   Engine Size    Fuel Transmission      Price Build  \n",
       "0       2400.0  Petrol    Automatic  3,120,000   NaN  \n",
       "1          NaN     NaN    Automatic  5,834,000   NaN  \n",
       "2       3000.0  Petrol    Automatic  3,640,000   NaN  \n",
       "3          NaN     NaN    Automatic  3,594,000   NaN  \n",
       "4          NaN     NaN    Automatic  8,410,000   NaN  "
      ]
     },
     "execution_count": 3,
     "metadata": {},
     "output_type": "execute_result"
    }
   ],
   "source": [
    "car_df.head()#visualizing first 5 rows of the dataset"
   ]
  },
  {
   "cell_type": "markdown",
   "id": "fd78b958",
   "metadata": {},
   "source": [
    "## The data cleaning stage\n"
   ]
  },
  {
   "cell_type": "code",
   "execution_count": 3,
   "id": "5870e6df",
   "metadata": {},
   "outputs": [
    {
     "data": {
      "text/plain": [
       "['Unnamed:_0',\n",
       " 'Make',\n",
       " 'Year_of_manufacture',\n",
       " 'Condition',\n",
       " 'Mileage',\n",
       " 'Engine_Size',\n",
       " 'Fuel',\n",
       " 'Transmission',\n",
       " 'Price',\n",
       " 'Build']"
      ]
     },
     "execution_count": 3,
     "metadata": {},
     "output_type": "execute_result"
    }
   ],
   "source": [
    "#The column names with spaces in between them are changed to underscore\n",
    "new_columns=[]\n",
    "for i in car_df.columns:\n",
    "    if ' ' in i:\n",
    "        colums=i.replace(' ','_')\n",
    "        new_columns.append(colums)\n",
    "    else:\n",
    "        new_columns.append(i)\n",
    "new_columns"
   ]
  },
  {
   "cell_type": "code",
   "execution_count": 4,
   "id": "45e4fd64",
   "metadata": {},
   "outputs": [
    {
     "data": {
      "text/plain": [
       "Index(['Unnamed:_0', 'Make', 'Year_of_manufacture', 'Condition', 'Mileage',\n",
       "       'Engine_Size', 'Fuel', 'Transmission', 'Price', 'Build'],\n",
       "      dtype='object')"
      ]
     },
     "execution_count": 4,
     "metadata": {},
     "output_type": "execute_result"
    }
   ],
   "source": [
    "car_df.columns=new_columns#the dataset column name is changed to the new column names\n",
    "car_df.columns"
   ]
  },
  {
   "cell_type": "code",
   "execution_count": 6,
   "id": "fd7b993c",
   "metadata": {},
   "outputs": [
    {
     "data": {
      "text/plain": [
       "(4095, 10)"
      ]
     },
     "execution_count": 6,
     "metadata": {},
     "output_type": "execute_result"
    }
   ],
   "source": [
    "car_df.shape"
   ]
  },
  {
   "cell_type": "code",
   "execution_count": 7,
   "id": "eb29aaf3",
   "metadata": {},
   "outputs": [
    {
     "data": {
      "text/html": [
       "<div>\n",
       "<style scoped>\n",
       "    .dataframe tbody tr th:only-of-type {\n",
       "        vertical-align: middle;\n",
       "    }\n",
       "\n",
       "    .dataframe tbody tr th {\n",
       "        vertical-align: top;\n",
       "    }\n",
       "\n",
       "    .dataframe thead th {\n",
       "        text-align: right;\n",
       "    }\n",
       "</style>\n",
       "<table border=\"1\" class=\"dataframe\">\n",
       "  <thead>\n",
       "    <tr style=\"text-align: right;\">\n",
       "      <th></th>\n",
       "      <th>Unnamed:_0</th>\n",
       "      <th>Year_of_manufacture</th>\n",
       "      <th>Mileage</th>\n",
       "      <th>Engine_Size</th>\n",
       "    </tr>\n",
       "  </thead>\n",
       "  <tbody>\n",
       "    <tr>\n",
       "      <th>count</th>\n",
       "      <td>4095.000000</td>\n",
       "      <td>3617.000000</td>\n",
       "      <td>4.024000e+03</td>\n",
       "      <td>3584.000000</td>\n",
       "    </tr>\n",
       "    <tr>\n",
       "      <th>mean</th>\n",
       "      <td>2047.000000</td>\n",
       "      <td>2007.898535</td>\n",
       "      <td>1.825337e+05</td>\n",
       "      <td>3274.976562</td>\n",
       "    </tr>\n",
       "    <tr>\n",
       "      <th>std</th>\n",
       "      <td>1182.269005</td>\n",
       "      <td>4.300126</td>\n",
       "      <td>2.109233e+05</td>\n",
       "      <td>7693.489588</td>\n",
       "    </tr>\n",
       "    <tr>\n",
       "      <th>min</th>\n",
       "      <td>0.000000</td>\n",
       "      <td>1992.000000</td>\n",
       "      <td>1.000000e+00</td>\n",
       "      <td>3.000000</td>\n",
       "    </tr>\n",
       "    <tr>\n",
       "      <th>25%</th>\n",
       "      <td>1023.500000</td>\n",
       "      <td>2005.000000</td>\n",
       "      <td>1.020640e+05</td>\n",
       "      <td>2000.000000</td>\n",
       "    </tr>\n",
       "    <tr>\n",
       "      <th>50%</th>\n",
       "      <td>2047.000000</td>\n",
       "      <td>2008.000000</td>\n",
       "      <td>1.613525e+05</td>\n",
       "      <td>2500.000000</td>\n",
       "    </tr>\n",
       "    <tr>\n",
       "      <th>75%</th>\n",
       "      <td>3070.500000</td>\n",
       "      <td>2011.000000</td>\n",
       "      <td>2.319522e+05</td>\n",
       "      <td>3500.000000</td>\n",
       "    </tr>\n",
       "    <tr>\n",
       "      <th>max</th>\n",
       "      <td>4094.000000</td>\n",
       "      <td>2021.000000</td>\n",
       "      <td>9.976050e+06</td>\n",
       "      <td>371000.000000</td>\n",
       "    </tr>\n",
       "  </tbody>\n",
       "</table>\n",
       "</div>"
      ],
      "text/plain": [
       "        Unnamed:_0  Year_of_manufacture       Mileage    Engine_Size\n",
       "count  4095.000000          3617.000000  4.024000e+03    3584.000000\n",
       "mean   2047.000000          2007.898535  1.825337e+05    3274.976562\n",
       "std    1182.269005             4.300126  2.109233e+05    7693.489588\n",
       "min       0.000000          1992.000000  1.000000e+00       3.000000\n",
       "25%    1023.500000          2005.000000  1.020640e+05    2000.000000\n",
       "50%    2047.000000          2008.000000  1.613525e+05    2500.000000\n",
       "75%    3070.500000          2011.000000  2.319522e+05    3500.000000\n",
       "max    4094.000000          2021.000000  9.976050e+06  371000.000000"
      ]
     },
     "execution_count": 7,
     "metadata": {},
     "output_type": "execute_result"
    }
   ],
   "source": [
    "car_df.describe()"
   ]
  },
  {
   "cell_type": "code",
   "execution_count": 8,
   "id": "50635761",
   "metadata": {},
   "outputs": [
    {
     "data": {
      "text/plain": [
       "Unnamed:_0                0\n",
       "Make                      0\n",
       "Year_of_manufacture     478\n",
       "Condition               479\n",
       "Mileage                  71\n",
       "Engine_Size             511\n",
       "Fuel                    488\n",
       "Transmission             20\n",
       "Price                     0\n",
       "Build                  2968\n",
       "dtype: int64"
      ]
     },
     "execution_count": 8,
     "metadata": {},
     "output_type": "execute_result"
    }
   ],
   "source": [
    "car_df.isnull().sum()#This shows that some columns has some missing or null values"
   ]
  },
  {
   "cell_type": "code",
   "execution_count": 9,
   "id": "605ab744",
   "metadata": {},
   "outputs": [],
   "source": [
    "car_df['Year_of_manufacture'].fillna(0,inplace=True)#the missing values in year of manufacture column is filled with Zero"
   ]
  },
  {
   "cell_type": "code",
   "execution_count": 10,
   "id": "2583156f",
   "metadata": {},
   "outputs": [],
   "source": [
    "car_df['Condition'].fillna('None',inplace=True)#the missing values in Condition column is filled with none"
   ]
  },
  {
   "cell_type": "code",
   "execution_count": 11,
   "id": "eb4a2b11",
   "metadata": {},
   "outputs": [],
   "source": [
    "car_df['Mileage'].fillna(car_df['Mileage'].mean(),inplace=True)#the missing values in Mileage column is filled with the mean value of the column"
   ]
  },
  {
   "cell_type": "code",
   "execution_count": 12,
   "id": "78f7f4c0",
   "metadata": {},
   "outputs": [
    {
     "data": {
      "text/plain": [
       "Unnamed:_0               int64\n",
       "Make                    object\n",
       "Year_of_manufacture    float64\n",
       "Condition               object\n",
       "Mileage                float64\n",
       "Engine_Size            float64\n",
       "Fuel                    object\n",
       "Transmission            object\n",
       "Price                   object\n",
       "Build                   object\n",
       "dtype: object"
      ]
     },
     "execution_count": 12,
     "metadata": {},
     "output_type": "execute_result"
    }
   ],
   "source": [
    "car_df.dtypes #checks the type of each column in the dataframe"
   ]
  },
  {
   "cell_type": "code",
   "execution_count": 5,
   "id": "29796fe3",
   "metadata": {},
   "outputs": [],
   "source": [
    "#replace the , in the price column with no space\n",
    "new_price=[]\n",
    "for i in car_df['Price']:\n",
    "    new_i=int(i.replace(',',''))\n",
    "    new_price.append(new_i)\n",
    "\n",
    "  "
   ]
  },
  {
   "cell_type": "code",
   "execution_count": 15,
   "id": "b30b70dc",
   "metadata": {},
   "outputs": [
    {
     "data": {
      "text/plain": [
       "dtype('int64')"
      ]
     },
     "execution_count": 15,
     "metadata": {},
     "output_type": "execute_result"
    }
   ],
   "source": [
    "#assign new_price back to price column\n",
    "car_df['Price']= new_price\n",
    "car_df['Price'].dtype\n"
   ]
  },
  {
   "cell_type": "markdown",
   "id": "caf70735",
   "metadata": {},
   "source": [
    "##  What is the most expensive Automatic car (show car name and model make) with a mileage of less than 50000.\n"
   ]
  },
  {
   "cell_type": "code",
   "execution_count": 26,
   "id": "2863ac22",
   "metadata": {},
   "outputs": [
    {
     "data": {
      "text/plain": [
       "58800000"
      ]
     },
     "execution_count": 26,
     "metadata": {},
     "output_type": "execute_result"
    }
   ],
   "source": [
    "#The code shows the price of the most expensive automatic car with mileage less than 50000 \n",
    "car_df.query('Transmission == \"Automatic\" & Mileage < 50000')['Price'].max()"
   ]
  },
  {
   "cell_type": "code",
   "execution_count": 35,
   "id": "9348095d",
   "metadata": {},
   "outputs": [
    {
     "data": {
      "text/html": [
       "<div>\n",
       "<style scoped>\n",
       "    .dataframe tbody tr th:only-of-type {\n",
       "        vertical-align: middle;\n",
       "    }\n",
       "\n",
       "    .dataframe tbody tr th {\n",
       "        vertical-align: top;\n",
       "    }\n",
       "\n",
       "    .dataframe thead th {\n",
       "        text-align: right;\n",
       "    }\n",
       "</style>\n",
       "<table border=\"1\" class=\"dataframe\">\n",
       "  <thead>\n",
       "    <tr style=\"text-align: right;\">\n",
       "      <th></th>\n",
       "      <th>Make</th>\n",
       "      <th>Transmission</th>\n",
       "      <th>Build</th>\n",
       "    </tr>\n",
       "  </thead>\n",
       "  <tbody>\n",
       "    <tr>\n",
       "      <th>377</th>\n",
       "      <td>Mercedes-Benz</td>\n",
       "      <td>Automatic</td>\n",
       "      <td>SUV</td>\n",
       "    </tr>\n",
       "    <tr>\n",
       "      <th>424</th>\n",
       "      <td>Mercedes-Benz</td>\n",
       "      <td>Automatic</td>\n",
       "      <td>SUV</td>\n",
       "    </tr>\n",
       "  </tbody>\n",
       "</table>\n",
       "</div>"
      ],
      "text/plain": [
       "              Make Transmission Build\n",
       "377  Mercedes-Benz    Automatic   SUV\n",
       "424  Mercedes-Benz    Automatic   SUV"
      ]
     },
     "execution_count": 35,
     "metadata": {},
     "output_type": "execute_result"
    }
   ],
   "source": [
    "# Returning the car name and model make with the price of 58800000\n",
    "car_df.query('Price== 58800000')[['Make','Transmission','Build']]"
   ]
  },
  {
   "cell_type": "markdown",
   "id": "4a7ddb06",
   "metadata": {},
   "source": [
    "## Which car make has the highest average price? "
   ]
  },
  {
   "cell_type": "code",
   "execution_count": 80,
   "id": "616cba6c",
   "metadata": {},
   "outputs": [
    {
     "data": {
      "text/html": [
       "<div>\n",
       "<style scoped>\n",
       "    .dataframe tbody tr th:only-of-type {\n",
       "        vertical-align: middle;\n",
       "    }\n",
       "\n",
       "    .dataframe tbody tr th {\n",
       "        vertical-align: top;\n",
       "    }\n",
       "\n",
       "    .dataframe thead th {\n",
       "        text-align: right;\n",
       "    }\n",
       "</style>\n",
       "<table border=\"1\" class=\"dataframe\">\n",
       "  <thead>\n",
       "    <tr style=\"text-align: right;\">\n",
       "      <th></th>\n",
       "      <th>Price</th>\n",
       "    </tr>\n",
       "    <tr>\n",
       "      <th>Make</th>\n",
       "      <th></th>\n",
       "    </tr>\n",
       "  </thead>\n",
       "  <tbody>\n",
       "    <tr>\n",
       "      <th>Tata</th>\n",
       "      <td>17850000.0</td>\n",
       "    </tr>\n",
       "  </tbody>\n",
       "</table>\n",
       "</div>"
      ],
      "text/plain": [
       "           Price\n",
       "Make            \n",
       "Tata  17850000.0"
      ]
     },
     "execution_count": 80,
     "metadata": {},
     "output_type": "execute_result"
    }
   ],
   "source": [
    "car_mean=car_df.pivot_table(index='Make',values='Price')#returns the mean price of  each car make\n",
    "mask= (car_mean==car_mean.to_numpy().max()).any(1)#Check whether each element is equal to the maximum value of its column\n",
    "res=car_mean[mask]#filters the car_mean dataframe to return row with the maximum price\n",
    "res\n"
   ]
  },
  {
   "cell_type": "markdown",
   "id": "d5a504cb",
   "metadata": {},
   "source": [
    "## Select the row with a price at the 76th percentile score."
   ]
  },
  {
   "cell_type": "code",
   "execution_count": 73,
   "id": "e6aa458d",
   "metadata": {},
   "outputs": [
    {
     "data": {
      "text/plain": [
       "4770000.0"
      ]
     },
     "execution_count": 73,
     "metadata": {},
     "output_type": "execute_result"
    }
   ],
   "source": [
    "#The price at the 76th percentile\n",
    "car_df['Price'].quantile(0.76)"
   ]
  },
  {
   "cell_type": "code",
   "execution_count": 71,
   "id": "6141cec1",
   "metadata": {},
   "outputs": [
    {
     "data": {
      "text/html": [
       "<div>\n",
       "<style scoped>\n",
       "    .dataframe tbody tr th:only-of-type {\n",
       "        vertical-align: middle;\n",
       "    }\n",
       "\n",
       "    .dataframe tbody tr th {\n",
       "        vertical-align: top;\n",
       "    }\n",
       "\n",
       "    .dataframe thead th {\n",
       "        text-align: right;\n",
       "    }\n",
       "</style>\n",
       "<table border=\"1\" class=\"dataframe\">\n",
       "  <thead>\n",
       "    <tr style=\"text-align: right;\">\n",
       "      <th></th>\n",
       "      <th>Unnamed:_0</th>\n",
       "      <th>Make</th>\n",
       "      <th>Year_of_manufacture</th>\n",
       "      <th>Condition</th>\n",
       "      <th>Mileage</th>\n",
       "      <th>Engine_Size</th>\n",
       "      <th>Fuel</th>\n",
       "      <th>Transmission</th>\n",
       "      <th>Price</th>\n",
       "      <th>Build</th>\n",
       "    </tr>\n",
       "  </thead>\n",
       "  <tbody>\n",
       "    <tr>\n",
       "      <th>576</th>\n",
       "      <td>576</td>\n",
       "      <td>Buick</td>\n",
       "      <td>0.0</td>\n",
       "      <td>None</td>\n",
       "      <td>55388.0</td>\n",
       "      <td>NaN</td>\n",
       "      <td>NaN</td>\n",
       "      <td>Automatic</td>\n",
       "      <td>4770000</td>\n",
       "      <td>NaN</td>\n",
       "    </tr>\n",
       "    <tr>\n",
       "      <th>679</th>\n",
       "      <td>679</td>\n",
       "      <td>Buick</td>\n",
       "      <td>0.0</td>\n",
       "      <td>None</td>\n",
       "      <td>55388.0</td>\n",
       "      <td>NaN</td>\n",
       "      <td>NaN</td>\n",
       "      <td>Automatic</td>\n",
       "      <td>4770000</td>\n",
       "      <td>NaN</td>\n",
       "    </tr>\n",
       "  </tbody>\n",
       "</table>\n",
       "</div>"
      ],
      "text/plain": [
       "     Unnamed:_0   Make  Year_of_manufacture Condition  Mileage  Engine_Size  \\\n",
       "576         576  Buick                  0.0      None  55388.0          NaN   \n",
       "679         679  Buick                  0.0      None  55388.0          NaN   \n",
       "\n",
       "    Fuel Transmission    Price Build  \n",
       "576  NaN    Automatic  4770000   NaN  \n",
       "679  NaN    Automatic  4770000   NaN  "
      ]
     },
     "execution_count": 71,
     "metadata": {},
     "output_type": "execute_result"
    }
   ],
   "source": [
    "#the rows with the 76th percentile\n",
    "car_df.query('Price == 4770000')"
   ]
  }
 ],
 "metadata": {
  "kernelspec": {
   "display_name": "Python 3 (ipykernel)",
   "language": "python",
   "name": "python3"
  },
  "language_info": {
   "codemirror_mode": {
    "name": "ipython",
    "version": 3
   },
   "file_extension": ".py",
   "mimetype": "text/x-python",
   "name": "python",
   "nbconvert_exporter": "python",
   "pygments_lexer": "ipython3",
   "version": "3.9.12"
  }
 },
 "nbformat": 4,
 "nbformat_minor": 5
}
